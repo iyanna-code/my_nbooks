{
 "cells": [
  {
   "cell_type": "markdown",
   "metadata": {},
   "source": [
    "# Exercise 5-5: Get data from a JSON file"
   ]
  },
  {
   "cell_type": "code",
   "execution_count": 2,
   "metadata": {},
   "outputs": [],
   "source": [
    "import pandas as pd"
   ]
  },
  {
   "cell_type": "code",
   "execution_count": 4,
   "metadata": {},
   "outputs": [
    {
     "data": {
      "text/plain": [
       "('shots.json', <http.client.HTTPMessage at 0x249ffa11250>)"
      ]
     },
     "execution_count": 4,
     "metadata": {},
     "output_type": "execute_result"
    }
   ],
   "source": [
    "from urllib import request\n",
    "shots_url = 'https://www.murach.com/python_analysis/shots.json'\n",
    "request.urlretrieve(shots_url, filename='shots.json')"
   ]
  },
  {
   "cell_type": "code",
   "execution_count": 12,
   "metadata": {},
   "outputs": [
    {
     "data": {
      "text/plain": [
       "<bound method NDFrame.head of           resource                                         resultSets  \\\n",
       "0  shotchartdetail  [{'name': 'Shot_Chart_Detail', 'headers': ['GR...   \n",
       "\n",
       "  parameters.LeagueID parameters.Season parameters.SeasonType  \\\n",
       "0                  00              None        Regular Season   \n",
       "\n",
       "   parameters.TeamID  parameters.PlayerID parameters.GameID  \\\n",
       "0         1610612744               201939              None   \n",
       "\n",
       "  parameters.Outcome parameters.Location  ...  parameters.ClutchTime  \\\n",
       "0               None                None  ...                   None   \n",
       "\n",
       "  parameters.AheadBehind parameters.PointDiff parameters.RangeType  \\\n",
       "0                   None                 None                 None   \n",
       "\n",
       "   parameters.StartPeriod parameters.EndPeriod parameters.StartRange  \\\n",
       "0                    None                 None                  None   \n",
       "\n",
       "  parameters.EndRange parameters.ContextFilter parameters.ContextMeasure  \n",
       "0                None                                                FGA  \n",
       "\n",
       "[1 rows x 32 columns]>"
      ]
     },
     "execution_count": 12,
     "metadata": {},
     "output_type": "execute_result"
    }
   ],
   "source": [
    "import pandas as pd\n",
    "import json\n",
    "with open('shots.json', 'r') as file:\n",
    "    data = json.load(file)\n",
    "shots_url = data\n",
    "df = pd.json_normalize(shots_url)\n",
    "df.head"
   ]
  },
  {
   "cell_type": "code",
   "execution_count": null,
   "metadata": {},
   "outputs": [],
   "source": []
  }
 ],
 "metadata": {
  "kernelspec": {
   "display_name": "Python 3 (ipykernel)",
   "language": "python",
   "name": "python3"
  },
  "language_info": {
   "codemirror_mode": {
    "name": "ipython",
    "version": 3
   },
   "file_extension": ".py",
   "mimetype": "text/x-python",
   "name": "python",
   "nbconvert_exporter": "python",
   "pygments_lexer": "ipython3",
   "version": "3.12.4"
  }
 },
 "nbformat": 4,
 "nbformat_minor": 4
}
