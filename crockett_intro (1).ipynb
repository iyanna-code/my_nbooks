{
 "cells": [
  {
   "cell_type": "markdown",
   "id": "a309173c-689d-4995-b840-021fb52cd2de",
   "metadata": {},
   "source": [
    "# NoteBook One"
   ]
  },
  {
   "cell_type": "markdown",
   "id": "1f97e196-6a23-413c-8b74-92b7cb18cdab",
   "metadata": {},
   "source": [
    "## Iyanna Crockett Wilson"
   ]
  },
  {
   "cell_type": "code",
   "execution_count": 17,
   "id": "f79ed04a-353e-4897-b116-a3d929f7a5e7",
   "metadata": {},
   "outputs": [],
   "source": [
    "import random \n",
    "nums = [random.randint(30,100) for x in range (40)]"
   ]
  },
  {
   "cell_type": "code",
   "execution_count": 19,
   "id": "1f78f9f8-aa94-4dd2-bb8e-3e0a370bbe64",
   "metadata": {},
   "outputs": [
    {
     "name": "stdout",
     "output_type": "stream",
     "text": [
      "30 34 35 36 38 41 42 48 48 49 50 51 51 53 55 55 56 64 69 70 71 74 75 77 78 79 80 81 82 84 87 90 93 93 94 97 97 98 100 100 "
     ]
    }
   ],
   "source": [
    "nums.sort()\n",
    "for num in nums:\n",
    "    print(num,end = ' ')"
   ]
  },
  {
   "cell_type": "markdown",
   "id": "2d81e986-5ddd-42fb-a0fb-ca448ea158cd",
   "metadata": {},
   "source": [
    "## The Sample Mean\n",
    "The sample mean is calculated by adding all the numbers in the sample together then dividing that by the total numbers in the sample."
   ]
  },
  {
   "cell_type": "code",
   "execution_count": 72,
   "id": "7d4daca5-b72a-4736-9ae2-311a65f3326c",
   "metadata": {},
   "outputs": [
    {
     "data": {
      "text/markdown": [
       "$\\bar{x} = \\frac{\\sum x_i}{n}$"
      ],
      "text/plain": [
       "<IPython.core.display.Markdown object>"
      ]
     },
     "metadata": {},
     "output_type": "display_data"
    }
   ],
   "source": [
    "from IPython.display import display, Markdown\n",
    "display(Markdown(r'$\\bar{x} = \\frac{\\sum x_i}{n}$'))"
   ]
  },
  {
   "cell_type": "code",
   "execution_count": 85,
   "id": "7c28dc46-1ad9-4cdc-ad6a-9429234dcb37",
   "metadata": {},
   "outputs": [
    {
     "name": "stdout",
     "output_type": "stream",
     "text": [
      "67.62\n"
     ]
    }
   ],
   "source": [
    "sample_mean = sum(nums) / len(nums)\n",
    "print(f\"{sample_mean:.2f}\")"
   ]
  },
  {
   "cell_type": "markdown",
   "id": "ebb2d08c-02b9-48ef-bdcf-1e4680c9155d",
   "metadata": {},
   "source": [
    "## The Median\n",
    "[Statistical Median](https://www150.statcan.gc.ca/n1/edu/power-pouvoir/ch11/median-mediane/5214872-eng.htm)"
   ]
  },
  {
   "cell_type": "code",
   "execution_count": 94,
   "id": "ac995d91-df56-4d7d-a738-0e96467b3dc1",
   "metadata": {},
   "outputs": [
    {
     "name": "stdout",
     "output_type": "stream",
     "text": [
      "70.5\n"
     ]
    }
   ],
   "source": [
    "#To calculate the median with an even amount of numbers, \n",
    "#take the two middle numbers add them together then divide by 2.\n",
    "import numpy as np\n",
    "median = np.median(nums)\n",
    "print(f\"{median:.1f}\")"
   ]
  }
 ],
 "metadata": {
  "kernelspec": {
   "display_name": "Python 3 (ipykernel)",
   "language": "python",
   "name": "python3"
  },
  "language_info": {
   "codemirror_mode": {
    "name": "ipython",
    "version": 3
   },
   "file_extension": ".py",
   "mimetype": "text/x-python",
   "name": "python",
   "nbconvert_exporter": "python",
   "pygments_lexer": "ipython3",
   "version": "3.12.4"
  }
 },
 "nbformat": 4,
 "nbformat_minor": 5
}
