{
 "cells": [
  {
   "cell_type": "markdown",
   "id": "5d287ea1-9fdc-403e-a52a-788ddf986c20",
   "metadata": {},
   "source": [
    "# Chapter 2 Assignment"
   ]
  },
  {
   "cell_type": "markdown",
   "id": "4e3e6ecc-e77f-424c-bc3c-ca6f9373901c",
   "metadata": {},
   "source": [
    "## Iyanna Crockett Wilson"
   ]
  },
  {
   "cell_type": "code",
   "execution_count": 17,
   "id": "99d48eef-b92e-4f0d-969c-e70d3045a898",
   "metadata": {},
   "outputs": [],
   "source": [
    "import pandas as pd"
   ]
  },
  {
   "cell_type": "code",
   "execution_count": 19,
   "id": "eb8b5578-6d8d-4c8e-a8cb-63084e49860e",
   "metadata": {},
   "outputs": [],
   "source": [
    "url = r\"C:\\Users\\iyann\\Downloads\\ramen-ratings.csv\"\n",
    "ramenratings = pd.read_csv(url)"
   ]
  },
  {
   "cell_type": "code",
   "execution_count": 21,
   "id": "b83f4bd9-47ee-4a1d-af4c-fde7325ff479",
   "metadata": {},
   "outputs": [
    {
     "name": "stdout",
     "output_type": "stream",
     "text": [
      "            Brand                                            Variety Style  \\\n",
      "0       New Touch                          T's Restaurant Tantanmen    Cup   \n",
      "1        Just Way  Noodles Spicy Hot Sesame Spicy Hot Sesame Guan...  Pack   \n",
      "2          Nissin                      Cup Noodles Chicken Vegetable   Cup   \n",
      "3         Wei Lih                      GGE Ramen Snack Tomato Flavor  Pack   \n",
      "4  Ching's Secret                                    Singapore Curry  Pack   \n",
      "\n",
      "  Country  Stars  \n",
      "0   Japan   3.75  \n",
      "1  Taiwan   1.00  \n",
      "2     USA   2.25  \n",
      "3  Taiwan   2.75  \n",
      "4   India   3.75  \n"
     ]
    }
   ],
   "source": [
    "print(ramenratings.head())"
   ]
  },
  {
   "cell_type": "code",
   "execution_count": 23,
   "id": "5ea0cfb1-0cdd-4b82-9b4d-c61694e239bf",
   "metadata": {},
   "outputs": [
    {
     "name": "stdout",
     "output_type": "stream",
     "text": [
      "         Brand                                            Variety Style  \\\n",
      "2572     Vifon  Hu Tiu Nam Vang [\"Phnom Penh\" style] Asian Sty...  Bowl   \n",
      "2573   Wai Wai                     Oriental Style Instant Noodles  Pack   \n",
      "2574   Wai Wai                                     Tom Yum Shrimp  Pack   \n",
      "2575   Wai Wai                               Tom Yum Chili Flavor  Pack   \n",
      "2576  Westbrae                                         Miso Ramen  Pack   \n",
      "\n",
      "       Country  Stars  \n",
      "2572   Vietnam    3.5  \n",
      "2573  Thailand    1.0  \n",
      "2574  Thailand    2.0  \n",
      "2575  Thailand    2.0  \n",
      "2576       USA    0.5  \n"
     ]
    }
   ],
   "source": [
    "print(ramenratings.tail())"
   ]
  },
  {
   "cell_type": "code",
   "execution_count": 27,
   "id": "5743dcd4-1ba1-43a1-9182-bf6ca7fe20c6",
   "metadata": {},
   "outputs": [
    {
     "name": "stdout",
     "output_type": "stream",
     "text": [
      "             Stars\n",
      "count  2577.000000\n",
      "mean      3.654676\n",
      "std       1.015331\n",
      "min       0.000000\n",
      "25%       3.250000\n",
      "50%       3.750000\n",
      "75%       4.250000\n",
      "max       5.000000\n"
     ]
    }
   ],
   "source": [
    "statistics = ramenratings.describe()\n",
    "print(statistics)"
   ]
  },
  {
   "cell_type": "code",
   "execution_count": 29,
   "id": "037f47fa-cbbd-45d8-ac6a-c8d58b75533b",
   "metadata": {},
   "outputs": [
    {
     "name": "stdout",
     "output_type": "stream",
     "text": [
      "Brand       355\n",
      "Variety    2410\n",
      "Style         7\n",
      "Country      38\n",
      "Stars        42\n",
      "dtype: int64\n"
     ]
    }
   ],
   "source": [
    "uniquev = ramenratings.nunique()\n",
    "print(uniquev)"
   ]
  },
  {
   "cell_type": "code",
   "execution_count": 31,
   "id": "1ec6777c-d16b-4127-9e56-0326f3468072",
   "metadata": {},
   "outputs": [
    {
     "name": "stdout",
     "output_type": "stream",
     "text": [
      "              Brand                                            Variety Style  \\\n",
      "18         Binh Tay                                         Mi Hai Cua  Pack   \n",
      "52    Uni-President                                    Mushroom Flavor  Pack   \n",
      "143        Mum Ngon                                   Lau Tom Chua Cay  Pack   \n",
      "224           Vifon  Viet Cuisine Bun Rieu Cua Sour Crab Soup Insta...  Bowl   \n",
      "365         Acecook                             Oh! Ricey Pork Flavour  Pack   \n",
      "...             ...                                                ...   ...   \n",
      "2486       Binh Tay                                   Mi Chay Mushroom  Pack   \n",
      "2535        Ve Wong                             Kung-Fu Chicken Flavor  Pack   \n",
      "2570        Ve Wong                                      Mushroom Pork  Pack   \n",
      "2571          Vifon                                           Nam Vang  Pack   \n",
      "2572          Vifon  Hu Tiu Nam Vang [\"Phnom Penh\" style] Asian Sty...  Bowl   \n",
      "\n",
      "      Country  Stars  \n",
      "18    Vietnam   4.00  \n",
      "52    Vietnam   0.00  \n",
      "143   Vietnam   3.50  \n",
      "224   Vietnam   5.00  \n",
      "365   Vietnam   4.00  \n",
      "...       ...    ...  \n",
      "2486  Vietnam   2.75  \n",
      "2535  Vietnam   2.75  \n",
      "2570  Vietnam   1.00  \n",
      "2571  Vietnam   2.50  \n",
      "2572  Vietnam   3.50  \n",
      "\n",
      "[108 rows x 5 columns]\n"
     ]
    }
   ],
   "source": [
    "vietnam = ramenratings[ramenratings['Country'] == 'Vietnam']\n",
    "print(vietnam)"
   ]
  },
  {
   "cell_type": "code",
   "execution_count": 35,
   "id": "83d036e6-5d8e-47d4-a602-cb7c41fe13be",
   "metadata": {},
   "outputs": [
    {
     "name": "stdout",
     "output_type": "stream",
     "text": [
      "               Brand Style\n",
      "0          New Touch   Cup\n",
      "1           Just Way  Pack\n",
      "2             Nissin   Cup\n",
      "3            Wei Lih  Pack\n",
      "4     Ching's Secret  Pack\n",
      "...              ...   ...\n",
      "2572           Vifon  Bowl\n",
      "2573         Wai Wai  Pack\n",
      "2574         Wai Wai  Pack\n",
      "2575         Wai Wai  Pack\n",
      "2576        Westbrae  Pack\n",
      "\n",
      "[2577 rows x 2 columns]\n"
     ]
    }
   ],
   "source": [
    "brandstyle = ramenratings[['Brand', 'Style']]\n",
    "print(brandstyle)"
   ]
  },
  {
   "cell_type": "code",
   "execution_count": 37,
   "id": "19ccd10c-bf43-44c8-9133-911223ff3af0",
   "metadata": {},
   "outputs": [
    {
     "name": "stdout",
     "output_type": "stream",
     "text": [
      "0          Japan\n",
      "1         Taiwan\n",
      "2            USA\n",
      "3         Taiwan\n",
      "4          India\n",
      "          ...   \n",
      "2572     Vietnam\n",
      "2573    Thailand\n",
      "2574    Thailand\n",
      "2575    Thailand\n",
      "2576         USA\n",
      "Name: Country, Length: 2577, dtype: object\n"
     ]
    }
   ],
   "source": [
    "countrycolumn = ramenratings['Country']\n",
    "print(countrycolumn)"
   ]
  },
  {
   "cell_type": "code",
   "execution_count": 39,
   "id": "cd7230f2-c0e0-4177-accc-968959a1b948",
   "metadata": {},
   "outputs": [
    {
     "name": "stdout",
     "output_type": "stream",
     "text": [
      "               Brand                                            Variety Style  \\\n",
      "1585     Prima Taste                            Singapore Laksa La Mian  Pack   \n",
      "446         Maruchan  Instant Lunch Chipotle Chicken Flavor Ramen No...   Cup   \n",
      "484         Nongshim          Champong Noodle Soup Spicy Seafood Flavor  Pack   \n",
      "483           Nissin                              Straits Kitchen Laksa  Pack   \n",
      "1613          Nissin                 Raoh Backfat Rich Soy Sauce Flavor  Bowl   \n",
      "...              ...                                                ...   ...   \n",
      "522             Koyo                 Garlic Pepper Reduced Sodium Ramen  Pack   \n",
      "561    Samyang Foods                            Honey & Cheese Big Bowl  Bowl   \n",
      "950            Azami                                Kimchee Noodle Soup   Cup   \n",
      "2079  Hsin Tung Yang                     Tiny Noodle With Oyster Flavor  Pack   \n",
      "52     Uni-President                                    Mushroom Flavor  Pack   \n",
      "\n",
      "          Country  Stars  \n",
      "1585    Singapore    5.0  \n",
      "446           USA    5.0  \n",
      "484   South Korea    5.0  \n",
      "483     Singapore    5.0  \n",
      "1613        Japan    5.0  \n",
      "...           ...    ...  \n",
      "522           USA    0.0  \n",
      "561   South Korea    0.0  \n",
      "950        Canada    0.0  \n",
      "2079       Taiwan    0.0  \n",
      "52        Vietnam    0.0  \n",
      "\n",
      "[2577 rows x 5 columns]\n"
     ]
    }
   ],
   "source": [
    "sort = ramenratings.sort_values(by='Stars', ascending=False)\n",
    "print(sort)"
   ]
  },
  {
   "cell_type": "code",
   "execution_count": 41,
   "id": "c80945a6-02c7-4e1f-9241-4e1771d19ed0",
   "metadata": {},
   "outputs": [
    {
     "name": "stdout",
     "output_type": "stream",
     "text": [
      "               Brand                                            Variety Style  \\\n",
      "0          New Touch                          T's Restaurant Tantanmen    Cup   \n",
      "1           Just Way  Noodles Spicy Hot Sesame Spicy Hot Sesame Guan...  Pack   \n",
      "2             Nissin                      Cup Noodles Chicken Vegetable   Cup   \n",
      "3            Wei Lih                      GGE Ramen Snack Tomato Flavor  Pack   \n",
      "4     Ching's Secret                                    Singapore Curry  Pack   \n",
      "...              ...                                                ...   ...   \n",
      "2572           Vifon  Hu Tiu Nam Vang [\"Phnom Penh\" style] Asian Sty...  Bowl   \n",
      "2573         Wai Wai                     Oriental Style Instant Noodles  Pack   \n",
      "2574         Wai Wai                                     Tom Yum Shrimp  Pack   \n",
      "2575         Wai Wai                               Tom Yum Chili Flavor  Pack   \n",
      "2576        Westbrae                                         Miso Ramen  Pack   \n",
      "\n",
      "            Country  Stars  \n",
      "0             Japan   3.75  \n",
      "1            Taiwan   1.00  \n",
      "2     United States   2.25  \n",
      "3            Taiwan   2.75  \n",
      "4             India   3.75  \n",
      "...             ...    ...  \n",
      "2572        Vietnam   3.50  \n",
      "2573       Thailand   1.00  \n",
      "2574       Thailand   2.00  \n",
      "2575       Thailand   2.00  \n",
      "2576  United States   0.50  \n",
      "\n",
      "[2577 rows x 5 columns]\n"
     ]
    }
   ],
   "source": [
    "ramenratings['Country'] = ramenratings['Country'].replace('USA', 'United States')\n",
    "print(ramenratings)"
   ]
  },
  {
   "cell_type": "code",
   "execution_count": 55,
   "id": "51a07745-92d5-4f82-95ed-371c02095948",
   "metadata": {},
   "outputs": [
    {
     "name": "stdout",
     "output_type": "stream",
     "text": [
      "            Brand                                            Variety Style  \\\n",
      "0       New Touch                          T's Restaurant Tantanmen    Cup   \n",
      "1        Just Way  Noodles Spicy Hot Sesame Spicy Hot Sesame Guan...  Pack   \n",
      "2          Nissin                      Cup Noodles Chicken Vegetable   Cup   \n",
      "3         Wei Lih                      GGE Ramen Snack Tomato Flavor  Pack   \n",
      "4  Ching's Secret                                    Singapore Curry  Pack   \n",
      "\n",
      "         Country  Stars  \n",
      "0          Japan   3.75  \n",
      "1         Taiwan   1.00  \n",
      "2  United States   2.25  \n",
      "3         Taiwan   2.75  \n",
      "4          India   3.75  \n"
     ]
    }
   ],
   "source": [
    "print(ramenratings.head())"
   ]
  },
  {
   "cell_type": "code",
   "execution_count": 59,
   "id": "ae2d9f4e-bfa4-4991-81ec-d66bba4eee44",
   "metadata": {},
   "outputs": [
    {
     "name": "stdout",
     "output_type": "stream",
     "text": [
      "37\n"
     ]
    }
   ],
   "source": [
    "num = ramenratings['Country'].nunique()\n",
    "print(num)"
   ]
  },
  {
   "cell_type": "code",
   "execution_count": 61,
   "id": "e3468fe7-e3fa-4e2d-95d3-64c20fbe1328",
   "metadata": {},
   "outputs": [
    {
     "name": "stdout",
     "output_type": "stream",
     "text": [
      "Country\n",
      "Brazil      4.350000\n",
      "Sarawak     4.333333\n",
      "Cambodia    4.200000\n",
      "Name: Stars, dtype: float64\n"
     ]
    }
   ],
   "source": [
    "averageratings = ramenratings.groupby('Country')['Stars'].mean()\n",
    "topthree = averageratings.sort_values(ascending=False).head(3)\n",
    "print(topthree)"
   ]
  },
  {
   "cell_type": "code",
   "execution_count": 63,
   "id": "951c274e-94ed-4dc6-90ee-682c6007b9b7",
   "metadata": {},
   "outputs": [
    {
     "name": "stdout",
     "output_type": "stream",
     "text": [
      "Country\n",
      "Nigeria        1.500000\n",
      "Canada         2.243902\n",
      "Netherlands    2.483333\n",
      "Name: Stars, dtype: float64\n"
     ]
    }
   ],
   "source": [
    "averageratings = ramenratings.groupby('Country')['Stars'].mean()\n",
    "bottomthree = averageratings.sort_values(ascending=True).head(3)\n",
    "print(bottomthree)"
   ]
  },
  {
   "cell_type": "code",
   "execution_count": 65,
   "id": "a5f55987-745f-42a8-b95b-1124e66a4456",
   "metadata": {},
   "outputs": [
    {
     "name": "stdout",
     "output_type": "stream",
     "text": [
      "Country\n",
      "Nigeria        1.500000\n",
      "Canada         2.243902\n",
      "Netherlands    2.483333\n",
      "Name: Stars, dtype: float64\n",
      "CPU times: total: 0 ns\n",
      "Wall time: 5.91 ms\n"
     ]
    }
   ],
   "source": [
    "%%time\n",
    "averageratings = ramenratings.groupby('Country')['Stars'].mean()\n",
    "bottomthree = averageratings.sort_values(ascending=True).head(3)\n",
    "print(bottomthree)"
   ]
  },
  {
   "cell_type": "code",
   "execution_count": null,
   "id": "d8df8ccb-1c97-4067-85b0-21d973007a86",
   "metadata": {},
   "outputs": [],
   "source": []
  }
 ],
 "metadata": {
  "kernelspec": {
   "display_name": "Python 3 (ipykernel)",
   "language": "python",
   "name": "python3"
  },
  "language_info": {
   "codemirror_mode": {
    "name": "ipython",
    "version": 3
   },
   "file_extension": ".py",
   "mimetype": "text/x-python",
   "name": "python",
   "nbconvert_exporter": "python",
   "pygments_lexer": "ipython3",
   "version": "3.12.4"
  }
 },
 "nbformat": 4,
 "nbformat_minor": 5
}
