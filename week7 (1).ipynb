{
 "cells": [
  {
   "cell_type": "markdown",
   "id": "6ab58bf5-512f-42f8-9307-e07278c44c24",
   "metadata": {},
   "source": [
    "# Chapter 10 - SIMPLE LINEAR REGRESSION"
   ]
  },
  {
   "cell_type": "markdown",
   "id": "e87a709a-5715-4616-a5d5-0e0cd85b23f4",
   "metadata": {},
   "source": [
    "## By Iyanna Crockett Wilson"
   ]
  },
  {
   "cell_type": "markdown",
   "id": "d531a9e0-183c-4d87-afde-354adbda8adb",
   "metadata": {},
   "source": [
    "## What does Simple Linear Regression Model do?\n",
    "#### It aims to find a linear relationship to describe the correlation between\n",
    "#### an independent and dependent variable."
   ]
  },
  {
   "cell_type": "code",
   "execution_count": 45,
   "id": "6eb615b2-a111-4479-82b6-8304c85756e2",
   "metadata": {},
   "outputs": [],
   "source": [
    "import pandas as pd\n",
    "import seaborn as sns\n",
    "from sklearn.linear_model import LinearRegression\n",
    "from sklearn.model_selection import train_test_split"
   ]
  },
  {
   "cell_type": "code",
   "execution_count": 47,
   "id": "9a3dbac1-2bc8-481d-8080-dd9fdeda3bac",
   "metadata": {},
   "outputs": [],
   "source": [
    "data = sns.load_dataset('diamonds')"
   ]
  },
  {
   "cell_type": "code",
   "execution_count": 49,
   "id": "ce4b723f-3db5-406d-9f58-38db29d8c780",
   "metadata": {},
   "outputs": [
    {
     "data": {
      "text/html": [
       "<div>\n",
       "<style scoped>\n",
       "    .dataframe tbody tr th:only-of-type {\n",
       "        vertical-align: middle;\n",
       "    }\n",
       "\n",
       "    .dataframe tbody tr th {\n",
       "        vertical-align: top;\n",
       "    }\n",
       "\n",
       "    .dataframe thead th {\n",
       "        text-align: right;\n",
       "    }\n",
       "</style>\n",
       "<table border=\"1\" class=\"dataframe\">\n",
       "  <thead>\n",
       "    <tr style=\"text-align: right;\">\n",
       "      <th></th>\n",
       "      <th>carat</th>\n",
       "      <th>cut</th>\n",
       "      <th>color</th>\n",
       "      <th>clarity</th>\n",
       "      <th>depth</th>\n",
       "      <th>table</th>\n",
       "      <th>price</th>\n",
       "      <th>x</th>\n",
       "      <th>y</th>\n",
       "      <th>z</th>\n",
       "    </tr>\n",
       "  </thead>\n",
       "  <tbody>\n",
       "    <tr>\n",
       "      <th>0</th>\n",
       "      <td>0.23</td>\n",
       "      <td>Ideal</td>\n",
       "      <td>E</td>\n",
       "      <td>SI2</td>\n",
       "      <td>61.5</td>\n",
       "      <td>55.0</td>\n",
       "      <td>326</td>\n",
       "      <td>3.95</td>\n",
       "      <td>3.98</td>\n",
       "      <td>2.43</td>\n",
       "    </tr>\n",
       "    <tr>\n",
       "      <th>1</th>\n",
       "      <td>0.21</td>\n",
       "      <td>Premium</td>\n",
       "      <td>E</td>\n",
       "      <td>SI1</td>\n",
       "      <td>59.8</td>\n",
       "      <td>61.0</td>\n",
       "      <td>326</td>\n",
       "      <td>3.89</td>\n",
       "      <td>3.84</td>\n",
       "      <td>2.31</td>\n",
       "    </tr>\n",
       "    <tr>\n",
       "      <th>2</th>\n",
       "      <td>0.23</td>\n",
       "      <td>Good</td>\n",
       "      <td>E</td>\n",
       "      <td>VS1</td>\n",
       "      <td>56.9</td>\n",
       "      <td>65.0</td>\n",
       "      <td>327</td>\n",
       "      <td>4.05</td>\n",
       "      <td>4.07</td>\n",
       "      <td>2.31</td>\n",
       "    </tr>\n",
       "    <tr>\n",
       "      <th>3</th>\n",
       "      <td>0.29</td>\n",
       "      <td>Premium</td>\n",
       "      <td>I</td>\n",
       "      <td>VS2</td>\n",
       "      <td>62.4</td>\n",
       "      <td>58.0</td>\n",
       "      <td>334</td>\n",
       "      <td>4.20</td>\n",
       "      <td>4.23</td>\n",
       "      <td>2.63</td>\n",
       "    </tr>\n",
       "    <tr>\n",
       "      <th>4</th>\n",
       "      <td>0.31</td>\n",
       "      <td>Good</td>\n",
       "      <td>J</td>\n",
       "      <td>SI2</td>\n",
       "      <td>63.3</td>\n",
       "      <td>58.0</td>\n",
       "      <td>335</td>\n",
       "      <td>4.34</td>\n",
       "      <td>4.35</td>\n",
       "      <td>2.75</td>\n",
       "    </tr>\n",
       "  </tbody>\n",
       "</table>\n",
       "</div>"
      ],
      "text/plain": [
       "   carat      cut color clarity  depth  table  price     x     y     z\n",
       "0   0.23    Ideal     E     SI2   61.5   55.0    326  3.95  3.98  2.43\n",
       "1   0.21  Premium     E     SI1   59.8   61.0    326  3.89  3.84  2.31\n",
       "2   0.23     Good     E     VS1   56.9   65.0    327  4.05  4.07  2.31\n",
       "3   0.29  Premium     I     VS2   62.4   58.0    334  4.20  4.23  2.63\n",
       "4   0.31     Good     J     SI2   63.3   58.0    335  4.34  4.35  2.75"
      ]
     },
     "execution_count": 49,
     "metadata": {},
     "output_type": "execute_result"
    }
   ],
   "source": [
    "data.head()"
   ]
  },
  {
   "cell_type": "markdown",
   "id": "6e8fbd87-a199-4b77-8c59-eed4f87c63f3",
   "metadata": {},
   "source": [
    "## Pearson Correlation Coefficient (r-value)\n",
    " - The r-value is defined as the correlation or relationship between an independent and a dependent variable.\n",
    " - Its possible range is from -1 to 1.\n",
    " - 1 represents a positive correlation.\n",
    " - -1 represents a negative correlation.\n",
    " - 0 represents no relationship or correlation."
   ]
  },
  {
   "cell_type": "code",
   "execution_count": 54,
   "id": "6db18a4d-cf26-48ad-a1dd-029d325ff328",
   "metadata": {},
   "outputs": [
    {
     "name": "stdout",
     "output_type": "stream",
     "text": [
      "          carat     depth     table     price         x         y         z\n",
      "carat  1.000000  0.028224  0.181618  0.921591  0.975094  0.951722  0.953387\n",
      "depth  0.028224  1.000000 -0.295779 -0.010647 -0.025289 -0.029341  0.094924\n",
      "table  0.181618 -0.295779  1.000000  0.127134  0.195344  0.183760  0.150929\n",
      "price  0.921591 -0.010647  0.127134  1.000000  0.884435  0.865421  0.861249\n",
      "x      0.975094 -0.025289  0.195344  0.884435  1.000000  0.974701  0.970772\n",
      "y      0.951722 -0.029341  0.183760  0.865421  0.974701  1.000000  0.952006\n",
      "z      0.953387  0.094924  0.150929  0.861249  0.970772  0.952006  1.000000\n"
     ]
    }
   ],
   "source": [
    "numeric_data = data.select_dtypes(include=['float64','int64'])\n",
    "correlation_matrix = numeric_data.corr()\n",
    "print(correlation_matrix.head(7))"
   ]
  },
  {
   "cell_type": "code",
   "execution_count": 62,
   "id": "dbcd1dc5-3280-4000-8428-d20c0ff5616c",
   "metadata": {},
   "outputs": [
    {
     "data": {
      "image/png": "[encoded data removed]",
      "text/plain": [
       "<Figure size 600x400 with 1 Axes>"
      ]
     },
     "metadata": {},
     "output_type": "display_data"
    }
   ],
   "source": [
    "import matplotlib.pyplot as plt\n",
    "import numpy as np\n",
    "price_correlation = correlation_matrix['price'].sort_values(ascending=False)\n",
    "plt.figure(figsize=(6,4))\n",
    "sns.heatmap(np.array(price_correlation).reshape(-1,1),annot=True,fmt=\".3f\",cmap=\"Greens\",xticklabels=['price'],yticklabels=price_correlation.index,cbar=False)\n",
    "plt.title(\"Correlations with Price\")\n",
    "plt.tight_layout()\n",
    "plt.show()"
   ]
  },
  {
   "cell_type": "markdown",
   "id": "74d17154-6c66-41c6-855e-4c490fef3287",
   "metadata": {},
   "source": [
    "## Procedure for Creating and Using a Regression Model\n",
    "1) Understand and prepare the data\n",
    "2) Split the data\n",
    "3) Train the regression model\n",
    "4) Evaluate and interpret the model"
   ]
  },
  {
   "cell_type": "code",
   "execution_count": 68,
   "id": "98a8544d-3db3-4412-a50f-fafd874a4533",
   "metadata": {},
   "outputs": [],
   "source": [
    "strongest_corr_column = price_correlation.index[1]\n",
    "X = numeric_data[[strongest_corr_column]]\n",
    "y = numeric_data['price']\n",
    "X_train, X_test, y_train, y_test = train_test_split(X, y, test_size =0.3, random_state = 20)"
   ]
  },
  {
   "cell_type": "code",
   "execution_count": 70,
   "id": "df2e466b-8082-429f-a4d3-fcd351f946e6",
   "metadata": {},
   "outputs": [
    {
     "name": "stdout",
     "output_type": "stream",
     "text": [
      "LinearRegression()\n"
     ]
    }
   ],
   "source": [
    "model = LinearRegression()\n",
    "print(model)"
   ]
  },
  {
   "cell_type": "code",
   "execution_count": 72,
   "id": "3543dfc5-0446-4fba-bec1-d4ce79ad23be",
   "metadata": {},
   "outputs": [
    {
     "name": "stdout",
     "output_type": "stream",
     "text": [
      "LinearRegression()\n"
     ]
    }
   ],
   "source": [
    "model.fit(X_train,y_train)\n",
    "print(model)"
   ]
  },
  {
   "cell_type": "code",
   "execution_count": 74,
   "id": "4cf1849d-93ed-4c6b-ba4c-11be8955425c",
   "metadata": {},
   "outputs": [
    {
     "name": "stdout",
     "output_type": "stream",
     "text": [
      "0.8504107786474794\n"
     ]
    }
   ],
   "source": [
    "score = model.score(X_test, y_test)\n",
    "print(score)"
   ]
  },
  {
   "cell_type": "code",
   "execution_count": 76,
   "id": "e0726090-9027-4558-9774-1ab2cbdc2ced",
   "metadata": {},
   "outputs": [
    {
     "name": "stdout",
     "output_type": "stream",
     "text": [
      "[9540.64191438 1940.07543252 3180.98424589 ... 9618.19871522 -464.18539337\n",
      " 5507.68827094]\n"
     ]
    }
   ],
   "source": [
    "y_pred = model.predict(X_test)\n",
    "print(y_pred)"
   ]
  },
  {
   "cell_type": "code",
   "execution_count": 78,
   "id": "20907cac-d22b-43c9-8f44-e18a8aaf021f",
   "metadata": {},
   "outputs": [
    {
     "name": "stdout",
     "output_type": "stream",
     "text": [
      "   predicted_price\n",
      "0      9540.641914\n",
      "1      1940.075433\n",
      "2      3180.984246\n"
     ]
    }
   ],
   "source": [
    "predicted_data = pd.DataFrame(y_pred, columns=['predicted_price'])\n",
    "print(predicted_data.head(3))"
   ]
  },
  {
   "cell_type": "code",
   "execution_count": 82,
   "id": "fde8c53b-b5ce-4097-b75d-e0194d9eaf53",
   "metadata": {},
   "outputs": [
    {
     "name": "stdout",
     "output_type": "stream",
     "text": [
      "       carat  price  predicted_price\n",
      "20244   1.52   8674      9540.641914\n",
      "45013   0.54   1637      1940.075433\n",
      "53351   0.70   2657      3180.984246\n",
      "47212   0.59   1838      2327.859437\n",
      "1460    0.86   2980      4421.893059\n"
     ]
    }
   ],
   "source": [
    "joined_data = X_test.copy()\n",
    "joined_data['price'] = y_test.values\n",
    "joined_data['predicted_price'] = y_pred\n",
    "print(joined_data.head(5))"
   ]
  },
  {
   "cell_type": "code",
   "execution_count": 94,
   "id": "1a6c544d-c112-4c37-8131-5b98cda36fd7",
   "metadata": {},
   "outputs": [
    {
     "data": {
      "text/html": [
       "<div>\n",
       "<style scoped>\n",
       "    .dataframe tbody tr th:only-of-type {\n",
       "        vertical-align: middle;\n",
       "    }\n",
       "\n",
       "    .dataframe tbody tr th {\n",
       "        vertical-align: top;\n",
       "    }\n",
       "\n",
       "    .dataframe thead th {\n",
       "        text-align: right;\n",
       "    }\n",
       "</style>\n",
       "<table border=\"1\" class=\"dataframe\">\n",
       "  <thead>\n",
       "    <tr style=\"text-align: right;\">\n",
       "      <th></th>\n",
       "      <th>carat</th>\n",
       "      <th>price_type</th>\n",
       "      <th>price_value</th>\n",
       "    </tr>\n",
       "  </thead>\n",
       "  <tbody>\n",
       "    <tr>\n",
       "      <th>0</th>\n",
       "      <td>1.52</td>\n",
       "      <td>price</td>\n",
       "      <td>8674.0</td>\n",
       "    </tr>\n",
       "    <tr>\n",
       "      <th>1</th>\n",
       "      <td>0.54</td>\n",
       "      <td>price</td>\n",
       "      <td>1637.0</td>\n",
       "    </tr>\n",
       "    <tr>\n",
       "      <th>2</th>\n",
       "      <td>0.70</td>\n",
       "      <td>price</td>\n",
       "      <td>2657.0</td>\n",
       "    </tr>\n",
       "    <tr>\n",
       "      <th>3</th>\n",
       "      <td>0.59</td>\n",
       "      <td>price</td>\n",
       "      <td>1838.0</td>\n",
       "    </tr>\n",
       "    <tr>\n",
       "      <th>4</th>\n",
       "      <td>0.86</td>\n",
       "      <td>price</td>\n",
       "      <td>2980.0</td>\n",
       "    </tr>\n",
       "  </tbody>\n",
       "</table>\n",
       "</div>"
      ],
      "text/plain": [
       "   carat price_type  price_value\n",
       "0   1.52      price       8674.0\n",
       "1   0.54      price       1637.0\n",
       "2   0.70      price       2657.0\n",
       "3   0.59      price       1838.0\n",
       "4   0.86      price       2980.0"
      ]
     },
     "execution_count": 94,
     "metadata": {},
     "output_type": "execute_result"
    }
   ],
   "source": [
    "melted_data = pd.melt(joined_data.reset_index(),id_vars=[strongest_corr_column],value_vars=['price','predicted_price'],var_name='price_type',value_name='price_value')\n",
    "melted_data.head()"
   ]
  },
  {
   "cell_type": "code",
   "execution_count": 98,
   "id": "33b30fb2-1a8f-490c-b6ad-3e351e402312",
   "metadata": {},
   "outputs": [
    {
     "data": {
      "image/png": "[encoded data removed]",
      "text/plain": [
       "<Figure size 640x480 with 1 Axes>"
      ]
     },
     "metadata": {},
     "output_type": "display_data"
    }
   ],
   "source": [
    "sns.lineplot(data=melted_data, x=strongest_corr_column, y='price_value',hue='price_type',errorbar=None)\n",
    "plt.title('Actual vs Predicted Prices')\n",
    "plt.xlabel('Strongest Correlation Column')\n",
    "plt.ylabel('Price Value')\n",
    "plt.show()"
   ]
  },
  {
   "cell_type": "markdown",
   "id": "fdd72b22-565d-4dba-90b4-0d0a0ff4df98",
   "metadata": {},
   "source": [
    "## Regression line equation is y = mx + b, where...\n",
    "-  y is the dependent variable\n",
    "-  m is the slope of the line\n",
    "-  x is the independent variable\n",
    "-  b is the Y-intercept"
   ]
  },
  {
   "cell_type": "code",
   "execution_count": 101,
   "id": "60508c78-2c15-4a65-90f2-0ab739cb63c7",
   "metadata": {},
   "outputs": [],
   "source": [
    "X = data.carat.values.reshape(-1,1)\n",
    "y=data.price"
   ]
  },
  {
   "cell_type": "code",
   "execution_count": 103,
   "id": "b648b08c-f02a-405d-bb34-a14c4373ec85",
   "metadata": {},
   "outputs": [],
   "source": [
    "Ir = LinearRegression()\n",
    "predicted = Ir.fit(X,y)"
   ]
  },
  {
   "cell_type": "code",
   "execution_count": 105,
   "id": "ae8171ea-555e-4158-8194-3acd3a069df6",
   "metadata": {},
   "outputs": [
    {
     "name": "stdout",
     "output_type": "stream",
     "text": [
      "The slope is [7756.42561797] and the y-intercept is -2256.360580045423\n"
     ]
    }
   ],
   "source": [
    "m = predicted.coef_\n",
    "b = predicted.intercept_\n",
    "print(f'The slope is {m} and the y-intercept is {b}')"
   ]
  },
  {
   "cell_type": "code",
   "execution_count": 108,
   "id": "a72c8789-e5fb-47e6-8817-0c4bf090ed21",
   "metadata": {},
   "outputs": [
    {
     "name": "stdout",
     "output_type": "stream",
     "text": [
      "Regression line equation is y = [7756.42561797]x + -2256.360580045423\n"
     ]
    }
   ],
   "source": [
    "print(f'Regression line equation is y = {m}x + {b}')"
   ]
  },
  {
   "cell_type": "code",
   "execution_count": 112,
   "id": "f5520717-8578-4482-b5b0-da2b10d6dd19",
   "metadata": {},
   "outputs": [
    {
     "name": "stdout",
     "output_type": "stream",
     "text": [
      "The predicted price for a 0.70 carat diamond is $[3173.13735253]\n"
     ]
    }
   ],
   "source": [
    "predictedp1 = m * 0.70 + b\n",
    "print(f'The predicted price for a 0.70 carat diamond is ${predictedp1}')"
   ]
  },
  {
   "cell_type": "code",
   "execution_count": 114,
   "id": "c3f52fd8-6769-47df-817f-64d6ddc26e7b",
   "metadata": {},
   "outputs": [
    {
     "name": "stdout",
     "output_type": "stream",
     "text": [
      "The predicted price for a 0.54 carat diamond is $[1932.10925366]\n"
     ]
    }
   ],
   "source": [
    "predictedp2 = m * 0.54 + b\n",
    "print(f'The predicted price for a 0.54 carat diamond is ${predictedp2}')"
   ]
  },
  {
   "cell_type": "markdown",
   "id": "24dcabb5-bc14-48aa-a72f-bbb0f81383b3",
   "metadata": {},
   "source": [
    "### Yes, the estimates in the previous two cells are close to the \n",
    " predicted prices in the results of step 18."
   ]
  }
 ],
 "metadata": {
  "kernelspec": {
   "display_name": "Python 3 (ipykernel)",
   "language": "python",
   "name": "python3"
  },
  "language_info": {
   "codemirror_mode": {
    "name": "ipython",
    "version": 3
   },
   "file_extension": ".py",
   "mimetype": "text/x-python",
   "name": "python",
   "nbconvert_exporter": "python",
   "pygments_lexer": "ipython3",
   "version": "3.12.4"
  }
 },
 "nbformat": 4,
 "nbformat_minor": 5
}
